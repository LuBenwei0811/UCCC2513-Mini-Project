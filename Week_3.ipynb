{
 "cells": [
  {
   "cell_type": "markdown",
   "id": "ff6ba5cc",
   "metadata": {},
   "source": [
    "# Tutorial Week 2 - Ong Jia Lung 2104616"
   ]
  },
  {
   "cell_type": "markdown",
   "id": "160a7715",
   "metadata": {},
   "source": [
    "### Exercise 1"
   ]
  },
  {
   "cell_type": "markdown",
   "id": "95fc7c7e",
   "metadata": {},
   "source": [
    " ### Load and display the image 'dog.jfif'. Save the image in png format."
   ]
  },
  {
   "cell_type": "code",
   "execution_count": 1,
   "id": "309f4a9a",
   "metadata": {},
   "outputs": [
    {
     "data": {
      "text/plain": [
       "True"
      ]
     },
     "execution_count": 1,
     "metadata": {},
     "output_type": "execute_result"
    }
   ],
   "source": [
    "import cv2 as cv\n",
    "img = cv.imread('images/dog.jfif')\n",
    "cv.imwrite('images/dog_save.png', img)"
   ]
  },
  {
   "cell_type": "markdown",
   "id": "cf990e74",
   "metadata": {},
   "source": [
    "### Exercise 2"
   ]
  },
  {
   "cell_type": "markdown",
   "id": "aad3bee0",
   "metadata": {},
   "source": [
    "### Suggest 2 ways and write codes to display 2 images simultaneously. You can use any image snapped from your handphone, downloaded from internet or images from weekly materials on MS teams. The 2 images are original color image and its corresponding grayscale image."
   ]
  },
  {
   "cell_type": "code",
   "execution_count": null,
   "id": "30af1c2c",
   "metadata": {},
   "outputs": [],
   "source": [
    "#method 1: Call cv.imshow() twice\n",
    "img = cv.imread('images/lena.jfif')\n",
    "gray = cv.imread('images/lena.jfif', 0)\n",
    "\n",
    "cv.imshow('original', img)\n",
    "cv.imshow('grayscale', gray)\n",
    "cv.waitKey(0)\n",
    "cv.destroyAllWindows()"
   ]
  },
  {
   "cell_type": "code",
   "execution_count": null,
   "id": "7d18b150",
   "metadata": {},
   "outputs": [],
   "source": [
    "#method 2: use matplotlib library\n",
    "import matplotlib.pyplot as plt\n",
    "\n",
    "img_rgb = cv.cvtColor(img, cv.COLOR_BGR2RGB)\n",
    "\n",
    "plt.subplot(121), plt.imshow(img_rgb)\n",
    "plt.xticks([]), plt.yticks([])\n",
    "plt.subplot(122), plt.imshow(gray, cmap=\"gray\")\n",
    "plt.xticks([]), plt.yticks([])\n",
    "plt.show()"
   ]
  },
  {
   "cell_type": "markdown",
   "id": "2189f8a0",
   "metadata": {},
   "source": [
    "### Exercise 3"
   ]
  },
  {
   "cell_type": "markdown",
   "id": "4701131b",
   "metadata": {},
   "source": [
    "### Write codes that performs the following:\n",
    "##### 1 Load the video “img_pexels.mp4” into the Python environment, resize it and display the videos with smaller frames (The frames can be of any size, as long as it is smaller). You can specify an arbitrary frame rate. \n",
    "##### 2 Save it as a separate files: “smaller_img_pexels.avi” or \"smaller_img_pexels.mp4\""
   ]
  },
  {
   "cell_type": "code",
   "execution_count": null,
   "id": "050f9c30",
   "metadata": {},
   "outputs": [],
   "source": [
    "cap = cv.VideoCapture('videos/img_pexels.mp4')\n",
    "\n",
    "if not cap.isOpened():\n",
    "    raise Exception(\"No mp4 found!\")\n",
    "\n",
    "width = int(cap.get(3)*0.5)\n",
    "height = int(cap.get(4)*0.5)\n",
    "fourcc = cv.VideoWriter_fourcc(\"M\", \"J\", \"P\", \"G\")\n",
    "fps = 10\n",
    "out = cv.VideoWriter(\"videos/img_pexels_small.avi\", fourcc, fps, (width, height))\n",
    "\n",
    "while True:\n",
    "    ret, frame = cap.read()\n",
    "    \n",
    "    if not ret:\n",
    "        print(\"Can't receive frame\")\n",
    "        break\n",
    "        \n",
    "    frame = cv.resize(frame, (width, height))\n",
    "    \n",
    "    cv.namedWindow('small frame', cv.WINDOW_NORMAL)\n",
    "    cv.imshow('small frame', frame)\n",
    "    out.write(frame)\n",
    "    \n",
    "    if cv.waitKey(1) & 0xFF == ord('q'):\n",
    "        break\n",
    "        \n",
    "cap.release()\n",
    "cv.destroyAllWindows()"
   ]
  },
  {
   "cell_type": "markdown",
   "id": "69907676",
   "metadata": {},
   "source": [
    "### Exercise 4"
   ]
  },
  {
   "cell_type": "markdown",
   "id": "96677b19",
   "metadata": {},
   "source": [
    "### Enlarge the image \"dog.jfif\" by using different techniques: \n",
    "#### 1) Linear interpolation, \n",
    "#### 2) Cubic interpolation and\n",
    "#### 3) nearest neighbor interpolation.\n",
    "### Comment on the upscaled of all the outputs."
   ]
  },
  {
   "cell_type": "code",
   "execution_count": null,
   "id": "6fd0806d",
   "metadata": {},
   "outputs": [],
   "source": [
    "# Linear interpolation (curve fitting)\n",
    "img = cv.imread(\"images/dog.jfif\")\n",
    "\n",
    "\n",
    "new_width = int(img.shape[1] * 2)\n",
    "new_height = int(img.shape[0] * 2)\n",
    "\n",
    "img_resize = cv.resize(img, (new_width, new_height), interpolation=cv.INTER_LINEAR)\n",
    "\n",
    "cv.imshow(\"original\", img)\n",
    "show_img(\"Linear interpolation\", img_resize)"
   ]
  },
  {
   "cell_type": "code",
   "execution_count": null,
   "id": "16c7d810",
   "metadata": {},
   "outputs": [],
   "source": [
    "# Cubic interpolation (considering the closest 4x4 neighborhood)\n",
    "img = cv.imread(\"images/dog.jfif\")\n",
    "\n",
    "\n",
    "new_width = int(img.shape[1] * 2)\n",
    "new_height = int(img.shape[0] * 2)\n",
    "\n",
    "img_resize = cv.resize(img, (new_width, new_height), interpolation=cv.INTER_CUBIC)\n",
    "\n",
    "cv.imshow(\"original\", img)\n",
    "show_img(\"Linear interpolation\", img_resize)"
   ]
  },
  {
   "cell_type": "code",
   "execution_count": null,
   "id": "4571b183",
   "metadata": {},
   "outputs": [],
   "source": [
    "# nearest neighbor interpolation. (nearest neighboring pixel and assumes its intensity value, \n",
    "# calculating an average value using some weighting criteria or producing an intermediate value based on intricate rules.)\n",
    "\n",
    "img = cv.imread(\"images/dog.jfif\")\n",
    "\n",
    "\n",
    "new_width = int(img.shape[1] * 2)\n",
    "new_height = int(img.shape[0] * 2)\n",
    "\n",
    "img_resize = cv.resize(img, (new_width, new_height), interpolation=cv.INTER_NEAREST)\n",
    "\n",
    "cv.imshow(\"original\", img)\n",
    "show_img(\"Linear interpolation\", img_resize)"
   ]
  }
 ],
 "metadata": {
  "kernelspec": {
   "display_name": "Python 3 (ipykernel)",
   "language": "python",
   "name": "python3"
  },
  "language_info": {
   "codemirror_mode": {
    "name": "ipython",
    "version": 3
   },
   "file_extension": ".py",
   "mimetype": "text/x-python",
   "name": "python",
   "nbconvert_exporter": "python",
   "pygments_lexer": "ipython3",
   "version": "3.10.9"
  }
 },
 "nbformat": 4,
 "nbformat_minor": 5
}
