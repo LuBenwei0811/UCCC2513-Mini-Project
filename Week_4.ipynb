{
 "cells": [
  {
   "cell_type": "markdown",
   "id": "7e47acd7",
   "metadata": {},
   "source": [
    "# Tutorial Week 4 - Ong Jia Lung 2104616"
   ]
  },
  {
   "cell_type": "markdown",
   "id": "c3da48a4",
   "metadata": {},
   "source": [
    "### Exercise 1\n",
    "#### Create a random noise color and grayscale image. You can set your own width and height, but keep the total number of pixels of both images identical."
   ]
  },
  {
   "cell_type": "code",
   "execution_count": 1,
   "id": "08212251",
   "metadata": {},
   "outputs": [],
   "source": [
    "import numpy as np\n",
    "import cv2 as cv\n",
    "n_pixels = 60_000\n",
    "random_array = np.random.randint(0, high=256, size=(n_pixels,), dtype=np.uint8)\n",
    "\n",
    "gray = random_array.reshape((200, -1))\n",
    "color = random_array.reshape((200, -1, 3))\n",
    "\n",
    "cv.imshow(\"gray\", gray)\n",
    "cv.imshow(\"color\", color)\n",
    "cv.waitKey(0)\n",
    "cv.destroyAllWindows()"
   ]
  },
  {
   "cell_type": "markdown",
   "id": "c0aaea01",
   "metadata": {},
   "source": [
    "### Exercise 2\n",
    "#### Convert the code chunk found under section Divide an image into smaller patches using cropping into a function with the following signature: crop_grid(img, num_horizontal_grid, num_vertical_grid, line_color)"
   ]
  },
  {
   "cell_type": "code",
   "execution_count": 5,
   "id": "72bb2106",
   "metadata": {},
   "outputs": [],
   "source": [
    "def crop_grid(img, num_horizontal_grid, num_vertical_grid, line_color):\n",
    "    img_copy = img.copy()\n",
    "    height, width = img.shape[:2]\n",
    "\n",
    "    M, N = int(height / num_vertical_grid), int(width / num_horizontal_grid)\n",
    "\n",
    "    x1, y1 = 0, 0\n",
    "\n",
    "    for y in range(0, height, M):\n",
    "        for x in range(0, width, N):\n",
    "\n",
    "            y1 = y + M\n",
    "            x1 = x + N\n",
    "\n",
    "            if x1>=width and y1>=height:\n",
    "                x1 = width-1\n",
    "                y1 = height-1\n",
    "                tile = img[y:height, x:width]\n",
    "                cv.rectangle(img_copy, (x,y), (x1, y1), line_color, 1)\n",
    "\n",
    "            elif y1>=height:\n",
    "                y1 = height-1\n",
    "                cv.rectangle(img_copy, (x, y), (x1, y1), line_color, 1)\n",
    "\n",
    "            elif x1>=width:\n",
    "                x1 = width-1\n",
    "                cv.rectangle(img_copy, (x, y), (x1, y1), line_color , 1)\n",
    "\n",
    "            else:\n",
    "                cv.rectangle(img_copy, (x, y), (x1, y1), line_color, 1)\n",
    "                \n",
    "    cv.imshow('image', img_copy)\n",
    "    cv.waitKey(0)\n",
    "    cv.destroyAllWindows()"
   ]
  },
  {
   "cell_type": "markdown",
   "id": "a132babd",
   "metadata": {},
   "source": [
    "### Exercise 3\n",
    "#### Display image sequences of smooth transition of two images with different values of . Refer to code in section \"Image blending\". Use \"lena.jfif\" and \"coins.jfif\" as the base images."
   ]
  },
  {
   "cell_type": "code",
   "execution_count": 6,
   "id": "584b3159",
   "metadata": {},
   "outputs": [],
   "source": [
    "img1 = cv.imread('images/lena.jfif')\n",
    "img2 = cv.imread('images/coins.jfif')\n",
    "\n",
    "new_shape = img1.shape[:2]\n",
    "img2 = cv.resize(img2, new_shape)\n",
    "\n",
    "alpha_list = np.linspace(0, 1, 50)\n",
    "\n",
    "for alpha in alpha_list:\n",
    "    dst = cv.addWeighted(img1, alpha, img2, 1-alpha, 0)\n",
    "    cv.imshow('dst', dst)\n",
    "    cv.waitKey(100)\n",
    "    cv.destroyAllWindows()"
   ]
  },
  {
   "cell_type": "markdown",
   "id": "c60bf036",
   "metadata": {},
   "source": [
    "### Exercise 4\n",
    "#### Suppose you are a digital content creator and wish to share photo online. However, you wish to protect these images from being stolen or altered by others. Leverage your image processing knowledge to apply watermark on image \"travel_hd.jpg\". The example of resulting watermarked image are as shown in the following: activity_image"
   ]
  },
  {
   "cell_type": "code",
   "execution_count": 8,
   "id": "0ede188d",
   "metadata": {},
   "outputs": [],
   "source": [
    "import matplotlib.pyplot as plt"
   ]
  },
  {
   "cell_type": "code",
   "execution_count": null,
   "id": "f57b3917",
   "metadata": {},
   "outputs": [],
   "source": [
    "img =cv.imread(\"images/travel_hd.jpg\")\n",
    "img2 = cv.imread(\"images/watermark.png\")\n",
    "\n",
    "img = cv.resize(img, (400, 600))\n",
    "\n",
    "# resize img2 to be the same dimension as img\n",
    "h,w = img.shape[:2]\n",
    "img2 = cv.resize(img2, (w, h))\n",
    "alpha = 0.65 # let the image clearer or blur \n",
    "\n",
    "res = cv.addWeighted(img, alpha, img2, 1-alpha, 0)\n",
    "\n",
    "cv.imshow(\"travel_hd\", img)\n",
    "cv.imshow(\"resized watermark\", img2)\n",
    "show_img(\"img blending\", res)\n",
    "\n",
    "cv.waitKey(0)\n",
    "cv.destroyAllWindows()"
   ]
  }
 ],
 "metadata": {
  "kernelspec": {
   "display_name": "Python 3 (ipykernel)",
   "language": "python",
   "name": "python3"
  },
  "language_info": {
   "codemirror_mode": {
    "name": "ipython",
    "version": 3
   },
   "file_extension": ".py",
   "mimetype": "text/x-python",
   "name": "python",
   "nbconvert_exporter": "python",
   "pygments_lexer": "ipython3",
   "version": "3.10.9"
  }
 },
 "nbformat": 4,
 "nbformat_minor": 5
}
